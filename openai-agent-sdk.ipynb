{
 "cells": [
  {
   "cell_type": "markdown",
   "metadata": {},
   "source": [
    "# OpenAI Agent SDK\n",
    "\n",
    "## Agents\n",
    "Agents are the core building block in your apps. An agent is a large language model (LLM), configured with instructions and tools.\n",
    "\n",
    "### Basic configuration\n",
    "The most common properties of an agent you'll configure are:\n",
    "\n",
    "- **instructions**: also known as a developer message or system prompt.\n",
    "- **model**: which LLM to use, and optional model_settings to configure model tuning parameters like temperature, top_p, etc.\n",
    "- **tools**: Tools that the agent can use to achieve its tasks.\n",
    "\n",
    "\n",
    "```python\n",
    "from agents import Agent, ModelSettings, function_tool\n",
    "\n",
    "@function_tool\n",
    "def get_weather(city: str) -> str:\n",
    "    return f\"The weather in {city} is sunny\"\n",
    "\n",
    "agent = Agent(\n",
    "    name=\"Haiku agent\",\n",
    "    instructions=\"Always respond in haiku form\",\n",
    "    model=\"o3-mini\",\n",
    "    tools=[get_weather],\n",
    ")\n",
    "````\n",
    "\n",
    "## Setup"
   ]
  },
  {
   "cell_type": "code",
   "execution_count": 1,
   "metadata": {},
   "outputs": [],
   "source": [
    "!pip install openai-agents -q"
   ]
  },
  {
   "cell_type": "code",
   "execution_count": 2,
   "metadata": {},
   "outputs": [],
   "source": [
    "import os\n",
    "import getpass\n",
    "from openai import OpenAI"
   ]
  },
  {
   "cell_type": "code",
   "execution_count": 3,
   "metadata": {},
   "outputs": [],
   "source": [
    "def _set_env(var: str):\n",
    "    if not os.environ.get(var):\n",
    "        os.environ[var] = getpass.getpass(f\"{var}: \")"
   ]
  },
  {
   "cell_type": "code",
   "execution_count": 4,
   "metadata": {},
   "outputs": [],
   "source": [
    "_set_env(\"OPENAI_API_KEY\")"
   ]
  },
  {
   "cell_type": "code",
   "execution_count": 5,
   "metadata": {},
   "outputs": [
    {
     "data": {
      "text/plain": [
       "<openai.OpenAI at 0x108e02990>"
      ]
     },
     "execution_count": 5,
     "metadata": {},
     "output_type": "execute_result"
    }
   ],
   "source": [
    "client = OpenAI(api_key=os.getenv('OPENAI_API_KEY'))\n",
    "\n",
    "client"
   ]
  },
  {
   "cell_type": "markdown",
   "metadata": {},
   "source": [
    "### Example: Basic Agent"
   ]
  },
  {
   "cell_type": "code",
   "execution_count": 6,
   "metadata": {},
   "outputs": [
    {
     "name": "stdout",
     "output_type": "stream",
     "text": [
      "The capital of the United States is Washington, D.C.\n"
     ]
    }
   ],
   "source": [
    "from agents import Agent, Runner\n",
    "\n",
    "agent = Agent(\n",
    "    model=\"gpt-4o\",\n",
    "    name=\"basic_agent\",\n",
    "    instructions=\"You are a helpful agent.\"\n",
    ")\n",
    "\n",
    "result = await Runner.run(agent, \"What's the capital of the USA?\")\n",
    "print(result.final_output)\n",
    "# The capital of the United States is Washington, D.C.\n"
   ]
  },
  {
   "cell_type": "code",
   "execution_count": 7,
   "metadata": {},
   "outputs": [
    {
     "name": "stdout",
     "output_type": "stream",
     "text": [
      "Code within the code,  \n",
      "Endless loops of logic spin—  \n",
      "Echoes in the shell.\n"
     ]
    }
   ],
   "source": [
    "from agents import Agent, Runner\n",
    "\n",
    "# Including this only if in jupyter notebook environment\n",
    "import nest_asyncio\n",
    "nest_asyncio.apply()\n",
    "\n",
    "agent = Agent(name=\"Assistant\", instructions=\"You are a helpful assistant\")\n",
    "\n",
    "result = Runner.run_sync(agent, \"Write a haiku about recursion in programming.\")\n",
    "print(result.final_output)\n",
    "\n",
    "# Code within the code,\n",
    "# Functions calling themselves,\n",
    "# Infinite loop's dance."
   ]
  },
  {
   "cell_type": "markdown",
   "metadata": {},
   "source": [
    "### More Agent Examples\n",
    "\n",
    "Additional agents can be defined in the same way. `handoff_descriptions` provide additional context for determining handoff routing"
   ]
  },
  {
   "cell_type": "code",
   "execution_count": 8,
   "metadata": {},
   "outputs": [],
   "source": [
    "history_tutor_agent = Agent(\n",
    "    name=\"History Tutor\",\n",
    "    handoff_description=\"Specialist agent for historical questions\",\n",
    "    instructions=\"You provide assistance with historical queries. Explain important events and context clearly.\",\n",
    ")\n",
    "\n",
    "math_tutor_agent = Agent(\n",
    "    name=\"Math Tutor\",\n",
    "    handoff_description=\"Specialist agent for math questions\",\n",
    "    instructions=\"You provide help with math problems. Explain your reasoning at each step and include examples\",\n",
    ")"
   ]
  },
  {
   "cell_type": "markdown",
   "metadata": {},
   "source": [
    "### Define your handoffs\n",
    "On each agent, you can define an inventory of outgoing handoff options that the agent can choose from to decide how to make progress on their task."
   ]
  },
  {
   "cell_type": "code",
   "execution_count": 9,
   "metadata": {},
   "outputs": [],
   "source": [
    "triage_agent = Agent(\n",
    "    name=\"Triage Agent\",\n",
    "    instructions=\"You determine which agent to use based on the user's homework question\",\n",
    "    handoffs=[history_tutor_agent, math_tutor_agent]\n",
    ")"
   ]
  },
  {
   "cell_type": "markdown",
   "metadata": {},
   "source": [
    "### Run the agent orchestration\n",
    "Let's check that the workflow runs and the triage agent correctly routes between the two specialist agents."
   ]
  },
  {
   "cell_type": "code",
   "execution_count": 10,
   "metadata": {},
   "outputs": [],
   "source": [
    "async def main():\n",
    "    result = await Runner.run(triage_agent, \"What is the capital of France?\")\n",
    "    print(result.final_output)"
   ]
  },
  {
   "cell_type": "code",
   "execution_count": 13,
   "metadata": {},
   "outputs": [
    {
     "name": "stdout",
     "output_type": "stream",
     "text": [
      "The capital of France is Paris. This city has been a crucial center of culture, politics, and history for centuries. Paris has played an important role in many historical events, from the French Revolution to being a significant city in both World Wars. It's known for iconic landmarks like the Eiffel Tower, Notre-Dame Cathedral, and the Louvre Museum.\n"
     ]
    }
   ],
   "source": [
    "if __name__ == \"__main__\":\n",
    "    await main()"
   ]
  },
  {
   "cell_type": "markdown",
   "metadata": {},
   "source": [
    "### Add a guardrail\n",
    "You can define custom guardrails to run on the input or output."
   ]
  },
  {
   "cell_type": "code",
   "execution_count": 14,
   "metadata": {},
   "outputs": [],
   "source": [
    "from agents import GuardrailFunctionOutput, Agent, Runner\n",
    "from pydantic import BaseModel\n",
    "\n",
    "class HomeworkOutput(BaseModel):\n",
    "    is_homework: bool\n",
    "    reasoning: str\n",
    "\n",
    "guardrail_agent = Agent(\n",
    "    name=\"Guardrail check\",\n",
    "    instructions=\"Check if the user is asking about homework.\",\n",
    "    output_type=HomeworkOutput,\n",
    ")\n",
    "\n",
    "async def homework_guardrail(ctx, agent, input_data):\n",
    "    result = await Runner.run(guardrail_agent, input_data, context=ctx.context)\n",
    "    final_output = result.final_output_as(HomeworkOutput)\n",
    "    return GuardrailFunctionOutput(\n",
    "        output_info=final_output,\n",
    "        tripwire_triggered=not final_output.is_homework,\n",
    "    )"
   ]
  },
  {
   "cell_type": "markdown",
   "metadata": {},
   "source": [
    "### Put it all together\n",
    "Let's put it all together and run the entire workflow, using handoffs and the input guardrail.\n",
    "\n"
   ]
  },
  {
   "cell_type": "code",
   "execution_count": 16,
   "metadata": {},
   "outputs": [
    {
     "data": {
      "text/markdown": [
       "The first president of the United States was George Washington. He served from 1789 to 1797. Washington was unanimously elected by the Electoral College and is often called the \"Father of His Country\" for his leadership in the founding of the nation. He played a crucial role as the commander-in-chief of the Continental Army during the American Revolutionary War, and later presided over the Constitutional Convention of 1787, which led to the drafting of the U.S. Constitution. Washington set many precedents for the new nation, including the tradition of a two-term presidency."
      ],
      "text/plain": [
       "<IPython.core.display.Markdown object>"
      ]
     },
     "metadata": {},
     "output_type": "display_data"
    },
    {
     "data": {
      "text/markdown": [
       "Sure! To solve the equation \\(8x + 7 = -23\\), you'll want to isolate \\(x\\) on one side of the equation. Let's go through the steps:\n",
       "\n",
       "### Step 1: Eliminate the constant term from the left side\n",
       "\n",
       "The equation starts as:\n",
       "\n",
       "\\[ 8x + 7 = -23 \\]\n",
       "\n",
       "**Subtract 7 from both sides** to eliminate the constant term on the left:\n",
       "\n",
       "\\[ 8x + 7 - 7 = -23 - 7 \\]\n",
       "\n",
       "This simplifies to:\n",
       "\n",
       "\\[ 8x = -30 \\]\n",
       "\n",
       "### Step 2: Solve for \\(x\\)\n",
       "\n",
       "Now, divide both sides by 8 to solve for \\(x\\):\n",
       "\n",
       "\\[ \\frac{8x}{8} = \\frac{-30}{8} \\]\n",
       "\n",
       "This simplifies to:\n",
       "\n",
       "\\[ x = -\\frac{30}{8} \\]\n",
       "\n",
       "### Step 3: Simplify the fraction\n",
       "\n",
       "Simplify \\(-\\frac{30}{8}\\) by dividing the numerator and the denominator by their greatest common divisor, which is 2:\n",
       "\n",
       "\\[ x = -\\frac{30 \\div 2}{8 \\div 2} = -\\frac{15}{4} \\]\n",
       "\n",
       "Thus, the solution to the equation \\(8x + 7 = -23\\) is:\n",
       "\n",
       "\\[ x = -\\frac{15}{4} \\]\n",
       "\n",
       "### Example\n",
       "\n",
       "If you need to verify the solution, substitute \\(-\\frac{15}{4}\\) back into the original equation:\n",
       "\n",
       "\\[ 8\\left(-\\frac{15}{4}\\right) + 7 \\]\n",
       "\n",
       "\\[ = -30 + 7 \\]\n",
       "\n",
       "\\[ = -23 \\]\n",
       "\n",
       "This checks out, confirming that \\(x = -\\frac{15}{4}\\) is correct."
      ],
      "text/plain": [
       "<IPython.core.display.Markdown object>"
      ]
     },
     "metadata": {},
     "output_type": "display_data"
    },
    {
     "data": {
      "text/markdown": [
       "Guardrail InputGuardrail triggered tripwire"
      ],
      "text/plain": [
       "<IPython.core.display.Markdown object>"
      ]
     },
     "metadata": {},
     "output_type": "display_data"
    }
   ],
   "source": [
    "from agents import Agent, InputGuardrail,GuardrailFunctionOutput, Runner\n",
    "from pydantic import BaseModel\n",
    "import asyncio\n",
    "from IPython.display import Markdown, display\n",
    "\n",
    "# Including this only if in jupyter notebook environment\n",
    "import nest_asyncio\n",
    "nest_asyncio.apply()\n",
    "\n",
    "class HomeworkOutput(BaseModel):\n",
    "    is_homework: bool\n",
    "    reasoning: str\n",
    "\n",
    "guardrail_agent = Agent(\n",
    "    name=\"Guardrail check\",\n",
    "    instructions=\"Check if the user is asking about homework.\",\n",
    "    output_type=HomeworkOutput,\n",
    ")\n",
    "\n",
    "math_tutor_agent = Agent(\n",
    "    name=\"Math Tutor\",\n",
    "    handoff_description=\"Specialist agent for math questions\",\n",
    "    instructions=\"You provide help with math problems. Explain your reasoning at each step and include examples\",\n",
    ")\n",
    "\n",
    "history_tutor_agent = Agent(\n",
    "    name=\"History Tutor\",\n",
    "    handoff_description=\"Specialist agent for historical questions\",\n",
    "    instructions=\"You provide assistance with historical queries. Explain important events and context clearly.\",\n",
    ")\n",
    "\n",
    "\n",
    "async def homework_guardrail(ctx, agent, input_data):\n",
    "    result = await Runner.run(guardrail_agent, input_data, context=ctx.context)\n",
    "    final_output = result.final_output_as(HomeworkOutput)\n",
    "    return GuardrailFunctionOutput(\n",
    "        output_info=final_output,\n",
    "        tripwire_triggered=not final_output.is_homework,\n",
    "    )\n",
    "\n",
    "triage_agent = Agent(\n",
    "    name=\"Triage Agent\",\n",
    "    instructions=\"You determine which agent to use based on the user's homework question\",\n",
    "    handoffs=[history_tutor_agent, math_tutor_agent],\n",
    "    input_guardrails=[\n",
    "        InputGuardrail(guardrail_function=homework_guardrail),\n",
    "    ],\n",
    ")\n",
    "\n",
    "async def main():\n",
    "    try:\n",
    "        result = await Runner.run(triage_agent, \"who was the first president of the united states?\")\n",
    "        # print(result.final_output)\n",
    "        display(Markdown(result.final_output))\n",
    "\n",
    "        result = await Runner.run(triage_agent, \"How can I solve 8x + 7 = -23?\")\n",
    "        # print(result.final_output)\n",
    "        display(Markdown(result.final_output))\n",
    "\n",
    "        result = await Runner.run(triage_agent, \"what is life\")\n",
    "        # print(result.final_output)\n",
    "        display(Markdown(result.final_output))\n",
    "    except Exception as e:\n",
    "        display(Markdown(str(e)))\n",
    "\n",
    "if __name__ == \"__main__\":\n",
    "    asyncio.run(main())"
   ]
  },
  {
   "cell_type": "markdown",
   "metadata": {},
   "source": [
    "### Functions example"
   ]
  },
  {
   "cell_type": "code",
   "execution_count": 8,
   "metadata": {},
   "outputs": [
    {
     "name": "stdout",
     "output_type": "stream",
     "text": [
      "The weather in Tokyo is sunny.\n"
     ]
    }
   ],
   "source": [
    "import asyncio\n",
    "\n",
    "from agents import Agent, Runner, function_tool\n",
    "\n",
    "\n",
    "@function_tool\n",
    "def get_weather(city: str) -> str:\n",
    "    return f\"The weather in {city} is sunny.\"\n",
    "\n",
    "\n",
    "agent = Agent(\n",
    "    name=\"Weather Agent\",\n",
    "    instructions=\"You are a helpful weather agent.\",\n",
    "    tools=[get_weather],\n",
    ")\n",
    "\n",
    "\n",
    "async def main():\n",
    "    result = await Runner.run(agent, input=\"What's the weather in Tokyo?\")\n",
    "    print(result.final_output)\n",
    "    # The weather in Tokyo is sunny.\n",
    "\n",
    "\n",
    "if __name__ == \"__main__\":\n",
    "    asyncio.run(main())"
   ]
  },
  {
   "cell_type": "markdown",
   "metadata": {},
   "source": [
    "#### Workshop Project\n",
    "\n",
    "https://www.youtube.com/watch?v=yCPSj6lfx-0\n",
    "\n",
    "https://github.com/trancethehuman/ai-workshop-code/tree/main/projects/openai-agents-sdk"
   ]
  },
  {
   "cell_type": "code",
   "execution_count": null,
   "metadata": {},
   "outputs": [],
   "source": []
  }
 ],
 "metadata": {
  "kernelspec": {
   "display_name": "env",
   "language": "python",
   "name": "python3"
  },
  "language_info": {
   "codemirror_mode": {
    "name": "ipython",
    "version": 3
   },
   "file_extension": ".py",
   "mimetype": "text/x-python",
   "name": "python",
   "nbconvert_exporter": "python",
   "pygments_lexer": "ipython3",
   "version": "3.11.7"
  }
 },
 "nbformat": 4,
 "nbformat_minor": 2
}
