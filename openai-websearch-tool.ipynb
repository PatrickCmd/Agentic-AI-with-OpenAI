{
 "cells": [
  {
   "cell_type": "markdown",
   "metadata": {},
   "source": [
    "## Websearch Tool\n",
    "\n",
    "- [OpenAI Cookbook](https://cookbook.openai.com/examples/responses_api/responses_example)"
   ]
  },
  {
   "cell_type": "code",
   "execution_count": 1,
   "metadata": {},
   "outputs": [],
   "source": [
    "import os\n",
    "import getpass\n",
    "from openai import OpenAI"
   ]
  },
  {
   "cell_type": "code",
   "execution_count": 2,
   "metadata": {},
   "outputs": [],
   "source": [
    "def _set_env(var: str):\n",
    "    if not os.environ.get(var):\n",
    "        os.environ[var] = getpass.getpass(f\"{var}: \")"
   ]
  },
  {
   "cell_type": "code",
   "execution_count": 3,
   "metadata": {},
   "outputs": [],
   "source": [
    "_set_env(\"OPENAI_API_KEY\")"
   ]
  },
  {
   "cell_type": "code",
   "execution_count": 4,
   "metadata": {},
   "outputs": [
    {
     "data": {
      "text/plain": [
       "<openai.OpenAI at 0x10e024490>"
      ]
     },
     "execution_count": 4,
     "metadata": {},
     "output_type": "execute_result"
    }
   ],
   "source": [
    "client = OpenAI(api_key=os.getenv('OPENAI_API_KEY'))\n",
    "\n",
    "client"
   ]
  },
  {
   "cell_type": "code",
   "execution_count": 5,
   "metadata": {},
   "outputs": [],
   "source": [
    "response = client.responses.create(\n",
    "    model=\"gpt-4o\",  # or another supported model\n",
    "    input=\"What's the latest news about AI?\",\n",
    "    tools=[\n",
    "        {\n",
    "            \"type\": \"web_search\"\n",
    "        }\n",
    "    ]\n",
    ")"
   ]
  },
  {
   "cell_type": "code",
   "execution_count": 6,
   "metadata": {},
   "outputs": [
    {
     "name": "stdout",
     "output_type": "stream",
     "text": [
      "[\n",
      "  {\n",
      "    \"id\": \"ws_67d402f6b3c881928fc0dcf5b896898b0a0df77530471a62\",\n",
      "    \"status\": \"completed\",\n",
      "    \"type\": \"web_search_call\"\n",
      "  },\n",
      "  {\n",
      "    \"id\": \"msg_67d402fb00e881929396a39a70b111cd0a0df77530471a62\",\n",
      "    \"content\": [\n",
      "      {\n",
      "        \"annotations\": [\n",
      "          {\n",
      "            \"end_index\": 714,\n",
      "            \"start_index\": 603,\n",
      "            \"title\": \"Malware's AI time bomb\",\n",
      "            \"type\": \"url_citation\",\n",
      "            \"url\": \"https://www.axios.com/2025/03/14/hackers-artificial-intelligence-cyber-threats?utm_source=openai\"\n",
      "          },\n",
      "          {\n",
      "            \"end_index\": 1173,\n",
      "            \"start_index\": 1080,\n",
      "            \"title\": \"French publishers and authors sue Meta over copyright works used in AI training\",\n",
      "            \"type\": \"url_citation\",\n",
      "            \"url\": \"https://apnews.com/article/168b32059e70d0509b0a6ac407f37e8a?utm_source=openai\"\n",
      "          },\n",
      "          {\n",
      "            \"end_index\": 1733,\n",
      "            \"start_index\": 1627,\n",
      "            \"title\": \"Google looks to give AI its arms and legs\",\n",
      "            \"type\": \"url_citation\",\n",
      "            \"url\": \"https://www.axios.com/2025/03/12/google-humanoid-robotics-gemini-deepmind?utm_source=openai\"\n",
      "          },\n",
      "          {\n",
      "            \"end_index\": 2455,\n",
      "            \"start_index\": 2280,\n",
      "            \"title\": \"Have AI and wildfires made electric utility bonds less of a safe haven?: Fridson\",\n",
      "            \"type\": \"url_citation\",\n",
      "            \"url\": \"https://www.reuters.com/technology/artificial-intelligence/have-ai-wildfires-made-electric-utility-bonds-less-safe-haven-fridson-2025-03-13/?utm_source=openai\"\n",
      "          },\n",
      "          {\n",
      "            \"end_index\": 3007,\n",
      "            \"start_index\": 2909,\n",
      "            \"title\": \"Axios interview: Chris Lehane on OpenAI's policy strategy for new Trump era\",\n",
      "            \"type\": \"url_citation\",\n",
      "            \"url\": \"https://www.axios.com/2025/03/13/openai-chris-lehane-trump-policy?utm_source=openai\"\n",
      "          },\n",
      "          {\n",
      "            \"end_index\": 3164,\n",
      "            \"start_index\": 3042,\n",
      "            \"title\": \"Malware's AI time bomb\",\n",
      "            \"type\": \"url_citation\",\n",
      "            \"url\": \"https://www.axios.com/2025/03/14/hackers-artificial-intelligence-cyber-threats?utm_source=openai\"\n",
      "          },\n",
      "          {\n",
      "            \"end_index\": 3327,\n",
      "            \"start_index\": 3167,\n",
      "            \"title\": \"French publishers and authors sue Meta over copyright works used in AI training\",\n",
      "            \"type\": \"url_citation\",\n",
      "            \"url\": \"https://apnews.com/article/168b32059e70d0509b0a6ac407f37e8a?utm_source=openai\"\n",
      "          },\n",
      "          {\n",
      "            \"end_index\": 3466,\n",
      "            \"start_index\": 3330,\n",
      "            \"title\": \"Google looks to give AI its arms and legs\",\n",
      "            \"type\": \"url_citation\",\n",
      "            \"url\": \"https://www.axios.com/2025/03/12/google-humanoid-robotics-gemini-deepmind?utm_source=openai\"\n",
      "          }\n",
      "        ],\n",
      "        \"text\": \"Here are some recent developments in the field of artificial intelligence:\\n\\n**Cybersecurity Concerns**\\n\\nSecurity experts are increasingly worried about the potential for AI-powered malware. While hackers currently rely on traditional methods like phishing and ransomware, the advent of generative AI could lead to more autonomous and adaptable cyberattacks. Discussions at the HumanX conference in Las Vegas highlighted the need for companies to prepare for this emerging threat. AI tools are also being recognized as essential in enhancing cybersecurity measures to combat these sophisticated attacks. ([axios.com](https://www.axios.com/2025/03/14/hackers-artificial-intelligence-cyber-threats?utm_source=openai))\\n\\n**Legal Actions on AI Training Data**\\n\\nFrench publishers and authors have filed a lawsuit against Meta, alleging unauthorized use of their copyrighted works to train its AI models. The plaintiffs demand the removal of data directories created by Meta for AI training, emphasizing the ongoing tension between creative industries and tech companies over data usage. ([apnews.com](https://apnews.com/article/168b32059e70d0509b0a6ac407f37e8a?utm_source=openai))\\n\\n**Advancements in AI and Robotics**\\n\\nGoogle has announced the integration of its advanced Gemini 2.0 AI language models with robotic systems capable of performing physical actions. This initiative aims to create more versatile robots but also raises concerns about new categories of risk as AI begins to take on physical capabilities. Google emphasizes a multi-layered approach to safety, incorporating content protections and industry-standard rules. ([axios.com](https://www.axios.com/2025/03/12/google-humanoid-robotics-gemini-deepmind?utm_source=openai))\\n\\n**AI in Financial Markets**\\n\\nThe integration of AI and the rise of cryptocurrency have altered the landscape for electric utility companies, traditionally seen as safe investments. While these technologies have led to perceived growth potential, challenges such as the financial impacts of wildfires have affected electric utility bonds. As of February 28, 2025, risk premiums suggest an even division between high-risk and low-risk BBB-rated electric utility bonds, indicating that they may remain relatively defensive during financial stress. ([reuters.com](https://www.reuters.com/technology/artificial-intelligence/have-ai-wildfires-made-electric-utility-bonds-less-safe-haven-fridson-2025-03-13/?utm_source=openai))\\n\\n**Policy and AI Development**\\n\\nOpenAI's Chief Global Affairs Officer, Chris Lehane, discussed the importance of accelerating AI policy under the current administration. Lehane emphasized a shift from advocating for regulation to pushing for policies that support AI growth, ensuring the U.S. stays ahead of competitors like China. OpenAI's memo to the White House outlines key requirements for maintaining AI leadership aligned with democratic values. ([axios.com](https://www.axios.com/2025/03/13/openai-chris-lehane-trump-policy?utm_source=openai))\\n\\n\\n## Recent Developments in AI:\\n- [Malware's AI time bomb](https://www.axios.com/2025/03/14/hackers-artificial-intelligence-cyber-threats?utm_source=openai)\\n- [French publishers and authors sue Meta over copyright works used in AI training](https://apnews.com/article/168b32059e70d0509b0a6ac407f37e8a?utm_source=openai)\\n- [Google looks to give AI its arms and legs](https://www.axios.com/2025/03/12/google-humanoid-robotics-gemini-deepmind?utm_source=openai) \",\n",
      "        \"type\": \"output_text\"\n",
      "      }\n",
      "    ],\n",
      "    \"role\": \"assistant\",\n",
      "    \"status\": \"completed\",\n",
      "    \"type\": \"message\"\n",
      "  }\n",
      "]\n"
     ]
    }
   ],
   "source": [
    "import json\n",
    "print(json.dumps(response.output, default=lambda o: o.__dict__, indent=2))"
   ]
  },
  {
   "cell_type": "code",
   "execution_count": 7,
   "metadata": {},
   "outputs": [
    {
     "data": {
      "text/markdown": [
       "Here are some recent developments in the field of artificial intelligence:\n",
       "\n",
       "**Cybersecurity Concerns**\n",
       "\n",
       "Security experts are increasingly worried about the potential for AI-powered malware. While hackers currently rely on traditional methods like phishing and ransomware, the advent of generative AI could lead to more autonomous and adaptable cyberattacks. Discussions at the HumanX conference in Las Vegas highlighted the need for companies to prepare for this emerging threat. AI tools are also being recognized as essential in enhancing cybersecurity measures to combat these sophisticated attacks. ([axios.com](https://www.axios.com/2025/03/14/hackers-artificial-intelligence-cyber-threats?utm_source=openai))\n",
       "\n",
       "**Legal Actions on AI Training Data**\n",
       "\n",
       "French publishers and authors have filed a lawsuit against Meta, alleging unauthorized use of their copyrighted works to train its AI models. The plaintiffs demand the removal of data directories created by Meta for AI training, emphasizing the ongoing tension between creative industries and tech companies over data usage. ([apnews.com](https://apnews.com/article/168b32059e70d0509b0a6ac407f37e8a?utm_source=openai))\n",
       "\n",
       "**Advancements in AI and Robotics**\n",
       "\n",
       "Google has announced the integration of its advanced Gemini 2.0 AI language models with robotic systems capable of performing physical actions. This initiative aims to create more versatile robots but also raises concerns about new categories of risk as AI begins to take on physical capabilities. Google emphasizes a multi-layered approach to safety, incorporating content protections and industry-standard rules. ([axios.com](https://www.axios.com/2025/03/12/google-humanoid-robotics-gemini-deepmind?utm_source=openai))\n",
       "\n",
       "**AI in Financial Markets**\n",
       "\n",
       "The integration of AI and the rise of cryptocurrency have altered the landscape for electric utility companies, traditionally seen as safe investments. While these technologies have led to perceived growth potential, challenges such as the financial impacts of wildfires have affected electric utility bonds. As of February 28, 2025, risk premiums suggest an even division between high-risk and low-risk BBB-rated electric utility bonds, indicating that they may remain relatively defensive during financial stress. ([reuters.com](https://www.reuters.com/technology/artificial-intelligence/have-ai-wildfires-made-electric-utility-bonds-less-safe-haven-fridson-2025-03-13/?utm_source=openai))\n",
       "\n",
       "**Policy and AI Development**\n",
       "\n",
       "OpenAI's Chief Global Affairs Officer, Chris Lehane, discussed the importance of accelerating AI policy under the current administration. Lehane emphasized a shift from advocating for regulation to pushing for policies that support AI growth, ensuring the U.S. stays ahead of competitors like China. OpenAI's memo to the White House outlines key requirements for maintaining AI leadership aligned with democratic values. ([axios.com](https://www.axios.com/2025/03/13/openai-chris-lehane-trump-policy?utm_source=openai))\n",
       "\n",
       "\n",
       "## Recent Developments in AI:\n",
       "- [Malware's AI time bomb](https://www.axios.com/2025/03/14/hackers-artificial-intelligence-cyber-threats?utm_source=openai)\n",
       "- [French publishers and authors sue Meta over copyright works used in AI training](https://apnews.com/article/168b32059e70d0509b0a6ac407f37e8a?utm_source=openai)\n",
       "- [Google looks to give AI its arms and legs](https://www.axios.com/2025/03/12/google-humanoid-robotics-gemini-deepmind?utm_source=openai) "
      ],
      "text/plain": [
       "<IPython.core.display.Markdown object>"
      ]
     },
     "metadata": {},
     "output_type": "display_data"
    }
   ],
   "source": [
    "from IPython.display import Markdown, display\n",
    "\n",
    "display(Markdown(response.output_text))"
   ]
  },
  {
   "cell_type": "markdown",
   "metadata": {},
   "source": [
    "### Multimodal, Tool-augmented conversation\n",
    "The Responses API natively supports text, images, and audio modalities. Tying everything together, we can build a fully multimodal, tool-augmented interaction with one API call through the responses API."
   ]
  },
  {
   "cell_type": "code",
   "execution_count": 8,
   "metadata": {},
   "outputs": [
    {
     "data": {
      "text/html": [
       "<img src=\"https://upload.wikimedia.org/wikipedia/commons/thumb/1/15/Cat_August_2010-4.jpg/2880px-Cat_August_2010-4.jpg\" width=\"400\"/>"
      ],
      "text/plain": [
       "<IPython.core.display.Image object>"
      ]
     },
     "metadata": {},
     "output_type": "display_data"
    }
   ],
   "source": [
    "import base64\n",
    "\n",
    "from IPython.display import Image\n",
    "\n",
    "# Display the image from the provided URL\n",
    "url = \"https://upload.wikimedia.org/wikipedia/commons/thumb/1/15/Cat_August_2010-4.jpg/2880px-Cat_August_2010-4.jpg\"\n",
    "display(Image(url=url, width=400))\n",
    "\n",
    "response_multimodal = client.responses.create(\n",
    "    model=\"gpt-4o\",\n",
    "    input=[\n",
    "        {\n",
    "            \"role\": \"user\",\n",
    "            \"content\": [\n",
    "                {\"type\": \"input_text\", \"text\": \n",
    "                 \"Come up with keywords related to the image, and search on the web using the search tool for any news related to the keywords\"\n",
    "                 \", summarize the findings and cite the sources.\"},\n",
    "                {\"type\": \"input_image\", \"image_url\": \"https://upload.wikimedia.org/wikipedia/commons/thumb/1/15/Cat_August_2010-4.jpg/2880px-Cat_August_2010-4.jpg\"}\n",
    "            ]\n",
    "        }\n",
    "    ],\n",
    "    tools=[\n",
    "        {\"type\": \"web_search\"}\n",
    "    ]\n",
    ")\n"
   ]
  },
  {
   "cell_type": "code",
   "execution_count": 9,
   "metadata": {},
   "outputs": [
    {
     "name": "stdout",
     "output_type": "stream",
     "text": [
      "{\n",
      "    \"id\": \"resp_67d4049897d08192b0f6f34651de7f5a0a55dd621d84f84c\",\n",
      "    \"created_at\": 1741948056.0,\n",
      "    \"error\": null,\n",
      "    \"incomplete_details\": null,\n",
      "    \"instructions\": null,\n",
      "    \"metadata\": {},\n",
      "    \"model\": \"gpt-4o-2024-08-06\",\n",
      "    \"object\": \"response\",\n",
      "    \"output\": [\n",
      "        {\n",
      "            \"id\": \"msg_67d4049b8b9481928713b002ce1c1add0a55dd621d84f84c\",\n",
      "            \"content\": [\n",
      "                {\n",
      "                    \"annotations\": [],\n",
      "                    \"text\": \"Keywords for the image could include:\\n\\n- Tabby Cat\\n- Cat on Stairs\\n- Striped Cat\\n- Feline Relaxing\\n- Domestic Cat\\n\\nI'll now search for any recent news related to these keywords. Please hold on.\",\n",
      "                    \"type\": \"output_text\"\n",
      "                }\n",
      "            ],\n",
      "            \"role\": \"assistant\",\n",
      "            \"status\": \"completed\",\n",
      "            \"type\": \"message\"\n",
      "        },\n",
      "        {\n",
      "            \"id\": \"ws_67d4049ed6d08192ad2fbde9465428c40a55dd621d84f84c\",\n",
      "            \"status\": \"completed\",\n",
      "            \"type\": \"web_search_call\"\n",
      "        },\n",
      "        {\n",
      "            \"id\": \"msg_67d404a0a15081928c216a7bc4a1200a0a55dd621d84f84c\",\n",
      "            \"content\": [\n",
      "                {\n",
      "                    \"annotations\": [\n",
      "                        {\n",
      "                            \"end_index\": 388,\n",
      "                            \"start_index\": 264,\n",
      "                            \"title\": \"New York tabby cat looking for a \\u2018life of leisure\\u2019 with a new adoptive family | Fox News\",\n",
      "                            \"type\": \"url_citation\",\n",
      "                            \"url\": \"https://www.foxnews.com/lifestyle/new-york-tabby-cat-looking-life-leisure-adoptive-family?utm_source=openai\"\n",
      "                        },\n",
      "                        {\n",
      "                            \"end_index\": 784,\n",
      "                            \"start_index\": 656,\n",
      "                            \"title\": \"Missing South Carolina tabby cat found 2 years later in California | Fox News\",\n",
      "                            \"type\": \"url_citation\",\n",
      "                            \"url\": \"https://www.foxnews.com/us/missing-south-carolina-tabby-cat-found-2-years-later-in-california?utm_source=openai\"\n",
      "                        },\n",
      "                        {\n",
      "                            \"end_index\": 1096,\n",
      "                            \"start_index\": 985,\n",
      "                            \"title\": \"Adorable buff tabby cat in need of adoption in Utah: \\u2018Such a sweet girl\\u2019 | Fox News\",\n",
      "                            \"type\": \"url_citation\",\n",
      "                            \"url\": \"https://www.foxnews.com/lifestyle/adorable-buff-tabby-cat-need-adoption-utah?utm_source=openai\"\n",
      "                        },\n",
      "                        {\n",
      "                            \"end_index\": 1430,\n",
      "                            \"start_index\": 1323,\n",
      "                            \"title\": \"Tabby cat plays piano to tell owners he's hungry | FOX 29 Philadelphia\",\n",
      "                            \"type\": \"url_citation\",\n",
      "                            \"url\": \"https://www.fox29.com/news/tabby-cat-plays-piano-to-tell-owners-hes-hungry?utm_source=openai\"\n",
      "                        },\n",
      "                        {\n",
      "                            \"end_index\": 1718,\n",
      "                            \"start_index\": 1624,\n",
      "                            \"title\": \"35-pound tabby cat gets new home | FOX 5 DC\",\n",
      "                            \"type\": \"url_citation\",\n",
      "                            \"url\": \"https://www.fox5dc.com/news/35-pound-tabby-cat-gets-new-home?utm_source=openai\"\n",
      "                        },\n",
      "                        {\n",
      "                            \"end_index\": 2101,\n",
      "                            \"start_index\": 1951,\n",
      "                            \"title\": \"Encinitas Tabby Cat Named Newsweek\\u2019s First-Ever 'Pet of the Year' - Times of San Diego\",\n",
      "                            \"type\": \"url_citation\",\n",
      "                            \"url\": \"https://timesofsandiego.com/life/2025/01/04/encinitas-tabby-cat-named-newsweeks-first-ever-pet-of-the-year/?utm_source=openai\"\n",
      "                        },\n",
      "                        {\n",
      "                            \"end_index\": 2353,\n",
      "                            \"start_index\": 2268,\n",
      "                            \"title\": \"Tabby Cat Who Broke His Paw From 'Zooming Too Hard' Has People in Their Feelings - PetHelpful News\",\n",
      "                            \"type\": \"url_citation\",\n",
      "                            \"url\": \"https://pethelpful.com/cat-in-cast-from-zooming?utm_source=openai\"\n",
      "                        }\n",
      "                    ],\n",
      "                    \"text\": \"Recent news stories featuring tabby cats include:\\n\\n- **Simon**, a seven-year-old tabby from New York, is seeking a new home. Described as \\\"handsome\\\" with \\\"lots of personality,\\\" Simon enjoys sunbathing and attention. He would thrive as the only pet in a household. ([foxnews.com](https://www.foxnews.com/lifestyle/new-york-tabby-cat-looking-life-leisure-adoptive-family?utm_source=openai))\\n\\n- **Kevin**, an orange tabby from South Carolina, was found nearly 2,000 miles away in California after disappearing two years prior. Discovered inside a U-Haul trailer, Kevin was dehydrated but identified through his microchip, leading to a reunion with his owner. ([foxnews.com](https://www.foxnews.com/us/missing-south-carolina-tabby-cat-found-2-years-later-in-california?utm_source=openai))\\n\\n- **Annie**, a three-year-old buff tabby in Utah, is available for adoption. Rescued after being found roadside in Idaho, Annie is known for her sweet nature and enjoys both playtime and relaxation. ([foxnews.com](https://www.foxnews.com/lifestyle/adorable-buff-tabby-cat-need-adoption-utah?utm_source=openai))\\n\\n- **Winslow**, a seven-year-old tabby from Philadelphia, communicates his hunger by playing a miniature piano. His owner trained him to use the piano to reduce excessive meowing, and Winslow now plays for food and attention. ([fox29.com](https://www.fox29.com/news/tabby-cat-plays-piano-to-tell-owners-hes-hungry?utm_source=openai))\\n\\n- **Symba**, a 35-pound tabby from Washington, D.C., found a new home after his previous owner moved to assisted living. His new family is committed to helping him achieve a healthier weight. ([fox5dc.com](https://www.fox5dc.com/news/35-pound-tabby-cat-gets-new-home?utm_source=openai))\\n\\n- **Noah**, an orange tabby from Encinitas, California, was named Newsweek's first-ever \\\"Pet of the Year\\\" for 2024. Adopted from Rancho Coastal Humane Society, Noah enjoys outdoor adventures and has become a neighborhood favorite. ([timesofsandiego.com](https://timesofsandiego.com/life/2025/01/04/encinitas-tabby-cat-named-newsweeks-first-ever-pet-of-the-year/?utm_source=openai))\\n\\n- **Mr. Bean**, a tabby cat, broke his paw from excessive \\\"zooming.\\\" Despite the injury, he is adapting well, with his owner making adjustments to aid his recovery. ([pethelpful.com](https://pethelpful.com/cat-in-cast-from-zooming?utm_source=openai))\\n\\nThese stories highlight the diverse experiences of tabby cats across the United States, from seeking new homes to showcasing unique talents and overcoming challenges. \",\n",
      "                    \"type\": \"output_text\"\n",
      "                }\n",
      "            ],\n",
      "            \"role\": \"assistant\",\n",
      "            \"status\": \"completed\",\n",
      "            \"type\": \"message\"\n",
      "        }\n",
      "    ],\n",
      "    \"parallel_tool_calls\": true,\n",
      "    \"temperature\": 1.0,\n",
      "    \"tool_choice\": \"auto\",\n",
      "    \"tools\": [\n",
      "        {\n",
      "            \"type\": \"web_search_preview\",\n",
      "            \"search_context_size\": \"medium\",\n",
      "            \"user_location\": {\n",
      "                \"type\": \"approximate\",\n",
      "                \"city\": null,\n",
      "                \"country\": \"US\",\n",
      "                \"region\": null,\n",
      "                \"timezone\": null\n",
      "            }\n",
      "        }\n",
      "    ],\n",
      "    \"top_p\": 1.0,\n",
      "    \"max_output_tokens\": null,\n",
      "    \"previous_response_id\": null,\n",
      "    \"reasoning\": {\n",
      "        \"effort\": null,\n",
      "        \"generate_summary\": null\n",
      "    },\n",
      "    \"status\": \"completed\",\n",
      "    \"text\": {\n",
      "        \"format\": {\n",
      "            \"type\": \"text\"\n",
      "        }\n",
      "    },\n",
      "    \"truncation\": \"disabled\",\n",
      "    \"usage\": {\n",
      "        \"input_tokens\": 3391,\n",
      "        \"output_tokens\": 686,\n",
      "        \"output_tokens_details\": {\n",
      "            \"reasoning_tokens\": 0\n",
      "        },\n",
      "        \"total_tokens\": 4077\n",
      "    },\n",
      "    \"user\": null,\n",
      "    \"_request_id\": \"req_b0bcb2e29911caad1807b00985df93ca\"\n",
      "}\n"
     ]
    }
   ],
   "source": [
    "import json\n",
    "print(json.dumps(response_multimodal.__dict__, default=lambda o: o.__dict__, indent=4))"
   ]
  },
  {
   "cell_type": "code",
   "execution_count": 11,
   "metadata": {},
   "outputs": [
    {
     "data": {
      "text/markdown": [
       "Keywords for the image could include:\n",
       "\n",
       "- Tabby Cat\n",
       "- Cat on Stairs\n",
       "- Striped Cat\n",
       "- Feline Relaxing\n",
       "- Domestic Cat\n",
       "\n",
       "I'll now search for any recent news related to these keywords. Please hold on.Recent news stories featuring tabby cats include:\n",
       "\n",
       "- **Simon**, a seven-year-old tabby from New York, is seeking a new home. Described as \"handsome\" with \"lots of personality,\" Simon enjoys sunbathing and attention. He would thrive as the only pet in a household. ([foxnews.com](https://www.foxnews.com/lifestyle/new-york-tabby-cat-looking-life-leisure-adoptive-family?utm_source=openai))\n",
       "\n",
       "- **Kevin**, an orange tabby from South Carolina, was found nearly 2,000 miles away in California after disappearing two years prior. Discovered inside a U-Haul trailer, Kevin was dehydrated but identified through his microchip, leading to a reunion with his owner. ([foxnews.com](https://www.foxnews.com/us/missing-south-carolina-tabby-cat-found-2-years-later-in-california?utm_source=openai))\n",
       "\n",
       "- **Annie**, a three-year-old buff tabby in Utah, is available for adoption. Rescued after being found roadside in Idaho, Annie is known for her sweet nature and enjoys both playtime and relaxation. ([foxnews.com](https://www.foxnews.com/lifestyle/adorable-buff-tabby-cat-need-adoption-utah?utm_source=openai))\n",
       "\n",
       "- **Winslow**, a seven-year-old tabby from Philadelphia, communicates his hunger by playing a miniature piano. His owner trained him to use the piano to reduce excessive meowing, and Winslow now plays for food and attention. ([fox29.com](https://www.fox29.com/news/tabby-cat-plays-piano-to-tell-owners-hes-hungry?utm_source=openai))\n",
       "\n",
       "- **Symba**, a 35-pound tabby from Washington, D.C., found a new home after his previous owner moved to assisted living. His new family is committed to helping him achieve a healthier weight. ([fox5dc.com](https://www.fox5dc.com/news/35-pound-tabby-cat-gets-new-home?utm_source=openai))\n",
       "\n",
       "- **Noah**, an orange tabby from Encinitas, California, was named Newsweek's first-ever \"Pet of the Year\" for 2024. Adopted from Rancho Coastal Humane Society, Noah enjoys outdoor adventures and has become a neighborhood favorite. ([timesofsandiego.com](https://timesofsandiego.com/life/2025/01/04/encinitas-tabby-cat-named-newsweeks-first-ever-pet-of-the-year/?utm_source=openai))\n",
       "\n",
       "- **Mr. Bean**, a tabby cat, broke his paw from excessive \"zooming.\" Despite the injury, he is adapting well, with his owner making adjustments to aid his recovery. ([pethelpful.com](https://pethelpful.com/cat-in-cast-from-zooming?utm_source=openai))\n",
       "\n",
       "These stories highlight the diverse experiences of tabby cats across the United States, from seeking new homes to showcasing unique talents and overcoming challenges. "
      ],
      "text/plain": [
       "<IPython.core.display.Markdown object>"
      ]
     },
     "metadata": {},
     "output_type": "display_data"
    }
   ],
   "source": [
    "display(Markdown(response_multimodal.output_text))"
   ]
  },
  {
   "cell_type": "code",
   "execution_count": null,
   "metadata": {},
   "outputs": [],
   "source": []
  }
 ],
 "metadata": {
  "kernelspec": {
   "display_name": "env",
   "language": "python",
   "name": "python3"
  },
  "language_info": {
   "codemirror_mode": {
    "name": "ipython",
    "version": 3
   },
   "file_extension": ".py",
   "mimetype": "text/x-python",
   "name": "python",
   "nbconvert_exporter": "python",
   "pygments_lexer": "ipython3",
   "version": "3.11.7"
  }
 },
 "nbformat": 4,
 "nbformat_minor": 2
}
